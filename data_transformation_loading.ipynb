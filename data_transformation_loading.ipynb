{
 "cells": [
  {
   "cell_type": "code",
   "execution_count": 3,
   "metadata": {},
   "outputs": [],
   "source": [
    "# import geopandas of geometry boundaries\n",
    "import geopandas as gpd\n",
    "# import pandas for dataframe manipulation\n",
    "import pandas as pd\n",
    "# import numpy for matrix computation\n",
    "import numpy as np\n",
    "# for manage env variable\n",
    "import os\n",
    "import datetime\n",
    "# connect to postgresql database\n",
    "import psycopg2\n",
    "# manage database connection and querying\n",
    "from sqlalchemy import create_engine\n",
    "# load env variable\n",
    "from dotenv import load_dotenv\n",
    "# OR, explicitly providing path to '.env'\n",
    "from pathlib import Path  # python3 only\n",
    "env_path = Path('.') / '.env'\n",
    "load_dotenv(dotenv_path=env_path)\n",
    "# manipulate string patterns\n",
    "import re\n",
    "# for http request\n",
    "import requests"
   ]
  },
  {
   "cell_type": "code",
   "execution_count": 4,
   "metadata": {},
   "outputs": [],
   "source": [
    "def get_posgres_connection():\n",
    "\n",
    "    db_name = os.getenv(\"PSQL_DB_NAME\")\n",
    "    db_user = os.getenv(\"DB_USERNAME\")\n",
    "    db_password = os.getenv(\"DB_PASSWORD\")\n",
    "    db_host = os.getenv(\"PSQL_DB_HOST\")\n",
    "    sql_engine = create_engine(f'postgresql://{db_user}:{db_password}@{db_host}:5432/{db_name}')\n",
    "    return sql_engine"
   ]
  },
  {
   "cell_type": "markdown",
   "metadata": {},
   "source": [
    "## Data transformation for Date Dimension"
   ]
  },
  {
   "cell_type": "code",
   "execution_count": 25,
   "metadata": {},
   "outputs": [],
   "source": [
    "# create date range function \n",
    "def create_date_range(start=\"2020-01-01\",end=\"2040-12-31\"):\n",
    "    df = pd.DataFrame({\"Date\": pd.date_range(start, end)})\n",
    "    df['day'] = df.Date.dt.day\n",
    "    df['month'] = df.Date.dt.month\n",
    "    df['month_name'] = df.Date.dt.strftime('%b')\n",
    "    df[\"date_of_week\"] = df.Date.dt.dateofweek\n",
    "    df[\"week\"] = df.Date.dt.weekofyear\n",
    "    df[\"quarter\"] = df.Date.dt.quarter\n",
    "    df[\"year\"] = df.Date.dt.year\n",
    "    df[\"semester\"] = (df.quarter + 1) // 2\n",
    "\n",
    "    return df\n"
   ]
  },
  {
   "cell_type": "code",
   "execution_count": 26,
   "metadata": {},
   "outputs": [
    {
     "output_type": "execute_result",
     "data": {
      "text/plain": "           Date  day  month month_name  week  quarter  year  semester\n0    2020-01-01    1      1        Jan     1        1  2020         1\n1    2020-01-02    2      1        Jan     1        1  2020         1\n2    2020-01-03    3      1        Jan     1        1  2020         1\n3    2020-01-04    4      1        Jan     1        1  2020         1\n4    2020-01-05    5      1        Jan     1        1  2020         1\n...         ...  ...    ...        ...   ...      ...   ...       ...\n7666 2040-12-27   27     12        Dec    52        4  2040         2\n7667 2040-12-28   28     12        Dec    52        4  2040         2\n7668 2040-12-29   29     12        Dec    52        4  2040         2\n7669 2040-12-30   30     12        Dec    52        4  2040         2\n7670 2040-12-31   31     12        Dec     1        4  2040         2\n\n[7671 rows x 8 columns]",
      "text/html": "<div>\n<style scoped>\n    .dataframe tbody tr th:only-of-type {\n        vertical-align: middle;\n    }\n\n    .dataframe tbody tr th {\n        vertical-align: top;\n    }\n\n    .dataframe thead th {\n        text-align: right;\n    }\n</style>\n<table border=\"1\" class=\"dataframe\">\n  <thead>\n    <tr style=\"text-align: right;\">\n      <th></th>\n      <th>Date</th>\n      <th>day</th>\n      <th>month</th>\n      <th>month_name</th>\n      <th>week</th>\n      <th>quarter</th>\n      <th>year</th>\n      <th>semester</th>\n    </tr>\n  </thead>\n  <tbody>\n    <tr>\n      <th>0</th>\n      <td>2020-01-01</td>\n      <td>1</td>\n      <td>1</td>\n      <td>Jan</td>\n      <td>1</td>\n      <td>1</td>\n      <td>2020</td>\n      <td>1</td>\n    </tr>\n    <tr>\n      <th>1</th>\n      <td>2020-01-02</td>\n      <td>2</td>\n      <td>1</td>\n      <td>Jan</td>\n      <td>1</td>\n      <td>1</td>\n      <td>2020</td>\n      <td>1</td>\n    </tr>\n    <tr>\n      <th>2</th>\n      <td>2020-01-03</td>\n      <td>3</td>\n      <td>1</td>\n      <td>Jan</td>\n      <td>1</td>\n      <td>1</td>\n      <td>2020</td>\n      <td>1</td>\n    </tr>\n    <tr>\n      <th>3</th>\n      <td>2020-01-04</td>\n      <td>4</td>\n      <td>1</td>\n      <td>Jan</td>\n      <td>1</td>\n      <td>1</td>\n      <td>2020</td>\n      <td>1</td>\n    </tr>\n    <tr>\n      <th>4</th>\n      <td>2020-01-05</td>\n      <td>5</td>\n      <td>1</td>\n      <td>Jan</td>\n      <td>1</td>\n      <td>1</td>\n      <td>2020</td>\n      <td>1</td>\n    </tr>\n    <tr>\n      <th>...</th>\n      <td>...</td>\n      <td>...</td>\n      <td>...</td>\n      <td>...</td>\n      <td>...</td>\n      <td>...</td>\n      <td>...</td>\n      <td>...</td>\n    </tr>\n    <tr>\n      <th>7666</th>\n      <td>2040-12-27</td>\n      <td>27</td>\n      <td>12</td>\n      <td>Dec</td>\n      <td>52</td>\n      <td>4</td>\n      <td>2040</td>\n      <td>2</td>\n    </tr>\n    <tr>\n      <th>7667</th>\n      <td>2040-12-28</td>\n      <td>28</td>\n      <td>12</td>\n      <td>Dec</td>\n      <td>52</td>\n      <td>4</td>\n      <td>2040</td>\n      <td>2</td>\n    </tr>\n    <tr>\n      <th>7668</th>\n      <td>2040-12-29</td>\n      <td>29</td>\n      <td>12</td>\n      <td>Dec</td>\n      <td>52</td>\n      <td>4</td>\n      <td>2040</td>\n      <td>2</td>\n    </tr>\n    <tr>\n      <th>7669</th>\n      <td>2040-12-30</td>\n      <td>30</td>\n      <td>12</td>\n      <td>Dec</td>\n      <td>52</td>\n      <td>4</td>\n      <td>2040</td>\n      <td>2</td>\n    </tr>\n    <tr>\n      <th>7670</th>\n      <td>2040-12-31</td>\n      <td>31</td>\n      <td>12</td>\n      <td>Dec</td>\n      <td>1</td>\n      <td>4</td>\n      <td>2040</td>\n      <td>2</td>\n    </tr>\n  </tbody>\n</table>\n<p>7671 rows × 8 columns</p>\n</div>"
     },
     "metadata": {},
     "execution_count": 26
    }
   ],
   "source": [
    "create_date_range()"
   ]
  },
  {
   "cell_type": "code",
   "execution_count": null,
   "metadata": {},
   "outputs": [],
   "source": []
  }
 ],
 "metadata": {
  "language_info": {
   "codemirror_mode": {
    "name": "ipython",
    "version": 3
   },
   "file_extension": ".py",
   "mimetype": "text/x-python",
   "name": "python",
   "nbconvert_exporter": "python",
   "pygments_lexer": "ipython3",
   "version": "3.8.2-final"
  },
  "orig_nbformat": 2,
  "kernelspec": {
   "name": "python38232bit1061edd897c34bc9bde6683b5eabcb5f",
   "display_name": "Python 3.8.2 32-bit"
  }
 },
 "nbformat": 4,
 "nbformat_minor": 2
}