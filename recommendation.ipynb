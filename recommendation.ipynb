{
 "cells": [
  {
   "cell_type": "code",
   "execution_count": 1,
   "metadata": {},
   "outputs": [],
   "source": [
    "import pandas as pd\n",
    "import numpy as numpy"
   ]
  },
  {
   "cell_type": "markdown",
   "metadata": {},
   "source": [
    "## Dimension Departement"
   ]
  },
  {
   "cell_type": "code",
   "execution_count": 5,
   "metadata": {},
   "outputs": [
    {
     "output_type": "execute_result",
     "data": {
      "text/plain": "  variable_name            variable_description variable_type\n0            id           primary key of  table        string\n1       name_fr  nom de la variable en français        string\n2       name_en     name of boundary in english        string\n3       name_kr       non varyab sila en kreyòl        string\n4          long                      longitude        numeric\n5           lat                        latitude       numeric\n6      geometry            geometry of boundary      geometry\n7        source                  source of data        string\n8       dat_beg                        date beg          date\n9      data_end                        date end          date",
      "text/html": "<div>\n<style scoped>\n    .dataframe tbody tr th:only-of-type {\n        vertical-align: middle;\n    }\n\n    .dataframe tbody tr th {\n        vertical-align: top;\n    }\n\n    .dataframe thead th {\n        text-align: right;\n    }\n</style>\n<table border=\"1\" class=\"dataframe\">\n  <thead>\n    <tr style=\"text-align: right;\">\n      <th></th>\n      <th>variable_name</th>\n      <th>variable_description</th>\n      <th>variable_type</th>\n    </tr>\n  </thead>\n  <tbody>\n    <tr>\n      <th>0</th>\n      <td>id</td>\n      <td>primary key of  table</td>\n      <td>string</td>\n    </tr>\n    <tr>\n      <th>1</th>\n      <td>name_fr</td>\n      <td>nom de la variable en français</td>\n      <td>string</td>\n    </tr>\n    <tr>\n      <th>2</th>\n      <td>name_en</td>\n      <td>name of boundary in english</td>\n      <td>string</td>\n    </tr>\n    <tr>\n      <th>3</th>\n      <td>name_kr</td>\n      <td>non varyab sila en kreyòl</td>\n      <td>string</td>\n    </tr>\n    <tr>\n      <th>4</th>\n      <td>long</td>\n      <td>longitude</td>\n      <td>numeric</td>\n    </tr>\n    <tr>\n      <th>5</th>\n      <td>lat</td>\n      <td>latitude</td>\n      <td>numeric</td>\n    </tr>\n    <tr>\n      <th>6</th>\n      <td>geometry</td>\n      <td>geometry of boundary</td>\n      <td>geometry</td>\n    </tr>\n    <tr>\n      <th>7</th>\n      <td>source</td>\n      <td>source of data</td>\n      <td>string</td>\n    </tr>\n    <tr>\n      <th>8</th>\n      <td>dat_beg</td>\n      <td>date beg</td>\n      <td>date</td>\n    </tr>\n    <tr>\n      <th>9</th>\n      <td>data_end</td>\n      <td>date end</td>\n      <td>date</td>\n    </tr>\n  </tbody>\n</table>\n</div>"
     },
     "metadata": {},
     "execution_count": 5
    }
   ],
   "source": [
    "dim_departement = pd.read_excel('orientation_dataset/orientation2.xlsx',sheet_name=\"DimDepartment\")\n",
    "dim_departement"
   ]
  },
  {
   "cell_type": "markdown",
   "metadata": {},
   "source": [
    "## Dimension Commune"
   ]
  },
  {
   "cell_type": "code",
   "execution_count": 6,
   "metadata": {},
   "outputs": [
    {
     "output_type": "execute_result",
     "data": {
      "text/plain": "  variable_name            variable_description variable_type\n0            id           primary key of  table        string\n1       name_fr  nom de la variable en français        string\n2       name_en     name of boundary in english        string\n3       name_kr       non varyab sila en kreyòl        string\n4          long                      longitude        numeric\n5           lat                        latitude       numeric\n6      geometry            geometry of boundary      geometry\n7        source                  source of data        string\n8       dat_beg                        date beg          date\n9      data_end                        date end          date",
      "text/html": "<div>\n<style scoped>\n    .dataframe tbody tr th:only-of-type {\n        vertical-align: middle;\n    }\n\n    .dataframe tbody tr th {\n        vertical-align: top;\n    }\n\n    .dataframe thead th {\n        text-align: right;\n    }\n</style>\n<table border=\"1\" class=\"dataframe\">\n  <thead>\n    <tr style=\"text-align: right;\">\n      <th></th>\n      <th>variable_name</th>\n      <th>variable_description</th>\n      <th>variable_type</th>\n    </tr>\n  </thead>\n  <tbody>\n    <tr>\n      <th>0</th>\n      <td>id</td>\n      <td>primary key of  table</td>\n      <td>string</td>\n    </tr>\n    <tr>\n      <th>1</th>\n      <td>name_fr</td>\n      <td>nom de la variable en français</td>\n      <td>string</td>\n    </tr>\n    <tr>\n      <th>2</th>\n      <td>name_en</td>\n      <td>name of boundary in english</td>\n      <td>string</td>\n    </tr>\n    <tr>\n      <th>3</th>\n      <td>name_kr</td>\n      <td>non varyab sila en kreyòl</td>\n      <td>string</td>\n    </tr>\n    <tr>\n      <th>4</th>\n      <td>long</td>\n      <td>longitude</td>\n      <td>numeric</td>\n    </tr>\n    <tr>\n      <th>5</th>\n      <td>lat</td>\n      <td>latitude</td>\n      <td>numeric</td>\n    </tr>\n    <tr>\n      <th>6</th>\n      <td>geometry</td>\n      <td>geometry of boundary</td>\n      <td>geometry</td>\n    </tr>\n    <tr>\n      <th>7</th>\n      <td>source</td>\n      <td>source of data</td>\n      <td>string</td>\n    </tr>\n    <tr>\n      <th>8</th>\n      <td>dat_beg</td>\n      <td>date beg</td>\n      <td>date</td>\n    </tr>\n    <tr>\n      <th>9</th>\n      <td>data_end</td>\n      <td>date end</td>\n      <td>date</td>\n    </tr>\n  </tbody>\n</table>\n</div>"
     },
     "metadata": {},
     "execution_count": 6
    }
   ],
   "source": [
    "dim_commune = pd.read_excel('orientation_dataset/orientation2.xlsx',sheet_name=\"DimCommune\")\n",
    "dim_commune"
   ]
  },
  {
   "cell_type": "markdown",
   "metadata": {},
   "source": [
    "## Dimension Section Communale"
   ]
  },
  {
   "cell_type": "code",
   "execution_count": 7,
   "metadata": {},
   "outputs": [
    {
     "output_type": "execute_result",
     "data": {
      "text/plain": "  variable_name            variable_description variable_type\n0            id           primary key of  table        string\n1       name_fr  nom de la variable en français        string\n2       name_en     name of boundary in english        string\n3       name_kr       non varyab sila en kreyòl        string\n4          long                      longitude        numeric\n5           lat                        latitude       numeric\n6      geometry            geometry of boundary      geometry\n7        source                  source of data        string\n8       dat_beg                        date beg          date\n9      data_end                        date end          date",
      "text/html": "<div>\n<style scoped>\n    .dataframe tbody tr th:only-of-type {\n        vertical-align: middle;\n    }\n\n    .dataframe tbody tr th {\n        vertical-align: top;\n    }\n\n    .dataframe thead th {\n        text-align: right;\n    }\n</style>\n<table border=\"1\" class=\"dataframe\">\n  <thead>\n    <tr style=\"text-align: right;\">\n      <th></th>\n      <th>variable_name</th>\n      <th>variable_description</th>\n      <th>variable_type</th>\n    </tr>\n  </thead>\n  <tbody>\n    <tr>\n      <th>0</th>\n      <td>id</td>\n      <td>primary key of  table</td>\n      <td>string</td>\n    </tr>\n    <tr>\n      <th>1</th>\n      <td>name_fr</td>\n      <td>nom de la variable en français</td>\n      <td>string</td>\n    </tr>\n    <tr>\n      <th>2</th>\n      <td>name_en</td>\n      <td>name of boundary in english</td>\n      <td>string</td>\n    </tr>\n    <tr>\n      <th>3</th>\n      <td>name_kr</td>\n      <td>non varyab sila en kreyòl</td>\n      <td>string</td>\n    </tr>\n    <tr>\n      <th>4</th>\n      <td>long</td>\n      <td>longitude</td>\n      <td>numeric</td>\n    </tr>\n    <tr>\n      <th>5</th>\n      <td>lat</td>\n      <td>latitude</td>\n      <td>numeric</td>\n    </tr>\n    <tr>\n      <th>6</th>\n      <td>geometry</td>\n      <td>geometry of boundary</td>\n      <td>geometry</td>\n    </tr>\n    <tr>\n      <th>7</th>\n      <td>source</td>\n      <td>source of data</td>\n      <td>string</td>\n    </tr>\n    <tr>\n      <th>8</th>\n      <td>dat_beg</td>\n      <td>date beg</td>\n      <td>date</td>\n    </tr>\n    <tr>\n      <th>9</th>\n      <td>data_end</td>\n      <td>date end</td>\n      <td>date</td>\n    </tr>\n  </tbody>\n</table>\n</div>"
     },
     "metadata": {},
     "execution_count": 7
    }
   ],
   "source": [
    "dim_sec_com= pd.read_excel('orientation_dataset/orientation2.xlsx',sheet_name=\"DimSecCommunale\")\n",
    "dim_sec_com"
   ]
  },
  {
   "cell_type": "markdown",
   "metadata": {},
   "source": [
    "## Dimension KPI Description"
   ]
  },
  {
   "cell_type": "code",
   "execution_count": 8,
   "metadata": {},
   "outputs": [
    {
     "output_type": "execute_result",
     "data": {
      "text/plain": "  variable_name            variable_description variable_type\n0            id           primary key of  table        string\n1       name_fr  nom de la variable en français        string\n2       name_en     name of boundary in english        string\n3       name_kr       non varyab sila en kreyòl        string\n4   description       describe the kpi variable        string\n5        source                  source of data        string\n6       dat_beg                        date beg          date\n7      data_end                        date end          date",
      "text/html": "<div>\n<style scoped>\n    .dataframe tbody tr th:only-of-type {\n        vertical-align: middle;\n    }\n\n    .dataframe tbody tr th {\n        vertical-align: top;\n    }\n\n    .dataframe thead th {\n        text-align: right;\n    }\n</style>\n<table border=\"1\" class=\"dataframe\">\n  <thead>\n    <tr style=\"text-align: right;\">\n      <th></th>\n      <th>variable_name</th>\n      <th>variable_description</th>\n      <th>variable_type</th>\n    </tr>\n  </thead>\n  <tbody>\n    <tr>\n      <th>0</th>\n      <td>id</td>\n      <td>primary key of  table</td>\n      <td>string</td>\n    </tr>\n    <tr>\n      <th>1</th>\n      <td>name_fr</td>\n      <td>nom de la variable en français</td>\n      <td>string</td>\n    </tr>\n    <tr>\n      <th>2</th>\n      <td>name_en</td>\n      <td>name of boundary in english</td>\n      <td>string</td>\n    </tr>\n    <tr>\n      <th>3</th>\n      <td>name_kr</td>\n      <td>non varyab sila en kreyòl</td>\n      <td>string</td>\n    </tr>\n    <tr>\n      <th>4</th>\n      <td>description</td>\n      <td>describe the kpi variable</td>\n      <td>string</td>\n    </tr>\n    <tr>\n      <th>5</th>\n      <td>source</td>\n      <td>source of data</td>\n      <td>string</td>\n    </tr>\n    <tr>\n      <th>6</th>\n      <td>dat_beg</td>\n      <td>date beg</td>\n      <td>date</td>\n    </tr>\n    <tr>\n      <th>7</th>\n      <td>data_end</td>\n      <td>date end</td>\n      <td>date</td>\n    </tr>\n  </tbody>\n</table>\n</div>"
     },
     "metadata": {},
     "execution_count": 8
    }
   ],
   "source": [
    "dim_kpi_desc= pd.read_excel('orientation_dataset/orientation2.xlsx',sheet_name=\"DimKPIDescription\")\n",
    "dim_kpi_desc "
   ]
  },
  {
   "cell_type": "markdown",
   "metadata": {},
   "source": [
    "## Dimension Date"
   ]
  },
  {
   "cell_type": "code",
   "execution_count": 9,
   "metadata": {},
   "outputs": [
    {
     "output_type": "execute_result",
     "data": {
      "text/plain": "   variable_name variable_description variable_type\n0             id          primary key        string\n1           date                 date      datetime\n2            day           day number        number\n3       week_day          day of week        number\n4    week_number     week of the year        number\n5          month          moth number        number\n6           year                year         number\n7        quarter        quater number        number\n8       semester      semester number        number\n9       day_name             day name        string\n10    month_name           month name        string",
      "text/html": "<div>\n<style scoped>\n    .dataframe tbody tr th:only-of-type {\n        vertical-align: middle;\n    }\n\n    .dataframe tbody tr th {\n        vertical-align: top;\n    }\n\n    .dataframe thead th {\n        text-align: right;\n    }\n</style>\n<table border=\"1\" class=\"dataframe\">\n  <thead>\n    <tr style=\"text-align: right;\">\n      <th></th>\n      <th>variable_name</th>\n      <th>variable_description</th>\n      <th>variable_type</th>\n    </tr>\n  </thead>\n  <tbody>\n    <tr>\n      <th>0</th>\n      <td>id</td>\n      <td>primary key</td>\n      <td>string</td>\n    </tr>\n    <tr>\n      <th>1</th>\n      <td>date</td>\n      <td>date</td>\n      <td>datetime</td>\n    </tr>\n    <tr>\n      <th>2</th>\n      <td>day</td>\n      <td>day number</td>\n      <td>number</td>\n    </tr>\n    <tr>\n      <th>3</th>\n      <td>week_day</td>\n      <td>day of week</td>\n      <td>number</td>\n    </tr>\n    <tr>\n      <th>4</th>\n      <td>week_number</td>\n      <td>week of the year</td>\n      <td>number</td>\n    </tr>\n    <tr>\n      <th>5</th>\n      <td>month</td>\n      <td>moth number</td>\n      <td>number</td>\n    </tr>\n    <tr>\n      <th>6</th>\n      <td>year</td>\n      <td>year</td>\n      <td>number</td>\n    </tr>\n    <tr>\n      <th>7</th>\n      <td>quarter</td>\n      <td>quater number</td>\n      <td>number</td>\n    </tr>\n    <tr>\n      <th>8</th>\n      <td>semester</td>\n      <td>semester number</td>\n      <td>number</td>\n    </tr>\n    <tr>\n      <th>9</th>\n      <td>day_name</td>\n      <td>day name</td>\n      <td>string</td>\n    </tr>\n    <tr>\n      <th>10</th>\n      <td>month_name</td>\n      <td>month name</td>\n      <td>string</td>\n    </tr>\n  </tbody>\n</table>\n</div>"
     },
     "metadata": {},
     "execution_count": 9
    }
   ],
   "source": [
    "dim_date= pd.read_excel('orientation_dataset/orientation2.xlsx',sheet_name=\"DimDate\")\n",
    "dim_date"
   ]
  },
  {
   "cell_type": "markdown",
   "metadata": {},
   "source": [
    "## Key Performance Indicator (KPI) Fact Table"
   ]
  },
  {
   "cell_type": "code",
   "execution_count": 10,
   "metadata": {},
   "outputs": [
    {
     "output_type": "execute_result",
     "data": {
      "text/plain": "    variable_name           variable_description variable_type\n0       id_dep_fk    foreign key  DimDepartement        string\n1       id_com_fk        foreign key  DimCommune        string\n2   id_sec_com_fk    foreign key DimSecCommunale        string\n3  id_kpi_desc_fk  foreign key DimKPIDescription        string\n4      id_date_fk            foreign key DimDate        string\n5           value             value of FactTable        number",
      "text/html": "<div>\n<style scoped>\n    .dataframe tbody tr th:only-of-type {\n        vertical-align: middle;\n    }\n\n    .dataframe tbody tr th {\n        vertical-align: top;\n    }\n\n    .dataframe thead th {\n        text-align: right;\n    }\n</style>\n<table border=\"1\" class=\"dataframe\">\n  <thead>\n    <tr style=\"text-align: right;\">\n      <th></th>\n      <th>variable_name</th>\n      <th>variable_description</th>\n      <th>variable_type</th>\n    </tr>\n  </thead>\n  <tbody>\n    <tr>\n      <th>0</th>\n      <td>id_dep_fk</td>\n      <td>foreign key  DimDepartement</td>\n      <td>string</td>\n    </tr>\n    <tr>\n      <th>1</th>\n      <td>id_com_fk</td>\n      <td>foreign key  DimCommune</td>\n      <td>string</td>\n    </tr>\n    <tr>\n      <th>2</th>\n      <td>id_sec_com_fk</td>\n      <td>foreign key DimSecCommunale</td>\n      <td>string</td>\n    </tr>\n    <tr>\n      <th>3</th>\n      <td>id_kpi_desc_fk</td>\n      <td>foreign key DimKPIDescription</td>\n      <td>string</td>\n    </tr>\n    <tr>\n      <th>4</th>\n      <td>id_date_fk</td>\n      <td>foreign key DimDate</td>\n      <td>string</td>\n    </tr>\n    <tr>\n      <th>5</th>\n      <td>value</td>\n      <td>value of FactTable</td>\n      <td>number</td>\n    </tr>\n  </tbody>\n</table>\n</div>"
     },
     "metadata": {},
     "execution_count": 10
    }
   ],
   "source": [
    "fact_kpi= pd.read_excel('orientation_dataset/orientation2.xlsx',sheet_name=\"FactKPITable\")\n",
    "fact_kpi"
   ]
  },
  {
   "cell_type": "code",
   "execution_count": null,
   "metadata": {},
   "outputs": [],
   "source": []
  }
 ],
 "metadata": {
  "language_info": {
   "codemirror_mode": {
    "name": "ipython",
    "version": 3
   },
   "file_extension": ".py",
   "mimetype": "text/x-python",
   "name": "python",
   "nbconvert_exporter": "python",
   "pygments_lexer": "ipython3",
   "version": "3.8.2-final"
  },
  "orig_nbformat": 2,
  "kernelspec": {
   "name": "python38232bit1061edd897c34bc9bde6683b5eabcb5f",
   "display_name": "Python 3.8.2 32-bit"
  }
 },
 "nbformat": 4,
 "nbformat_minor": 2
}